{
 "cells": [
  {
   "cell_type": "markdown",
   "id": "06da7071",
   "metadata": {},
   "source": [
    "<div align = center style=\"font-family:B Titr;font-size: 25px\"> تمرین عملی دوم درس مبانی امنیت </div>\n",
    "<div align = right style=\"font-family:B Titr;font-size: 20px\"> نام دانشجو: <span style=\"font-family:B Nazanin;font-size: 20px\"> رهام زنده دل نوبری </span> <span style=\"font-family:B Titr;font-size: 20px; margin-right:550px\">شماره دانشجویی:</span><span style=\"font-family:B Nazanin;font-size: 20px\"> 9731088 </span></div>\n",
    "<div>&nbsp;</div>\n",
    "<h1 style=\"font-family:B Titr;font-size: 20px; font-weight:bold;text-align:right\"> لود کردن کلید</h1>\n",
    "<p style=\"font-family:B Nazanin;font-size: 20px;margin-top:5px;text-align:right\">.در ابتدا کلید را از فایل لود می کنیم</p>"
   ]
  },
  {
   "cell_type": "code",
   "execution_count": 1,
   "id": "e600c8ea",
   "metadata": {},
   "outputs": [
    {
     "name": "stdout",
     "output_type": "stream",
     "text": [
      "Key is b'AUT*ICTSec*2022'\n"
     ]
    }
   ],
   "source": [
    "import os \n",
    "from dotenv import load_dotenv\n",
    "import binascii,pbkdf2,secrets,pyaes\n",
    "\n",
    "load_dotenv()\n",
    "key = os.getenv('KEY')\n",
    "key = key.encode('utf-8')\n",
    "print(f\"Key is {key}\")"
   ]
  },
  {
   "cell_type": "markdown",
   "id": "2f21b472",
   "metadata": {},
   "source": [
    "<h1 style=\"font-family:B Titr;font-size: 20px; font-weight:bold;text-align:right\"> ساختن کلید رمزنگاری</h1>\n",
    "<p style=\"font-family:B Nazanin;font-size: 20px;margin-top:5px;text-align:right\">.در ابتدا یک سالت رندوم درست می کنیم</p>"
   ]
  },
  {
   "cell_type": "code",
   "execution_count": 2,
   "id": "56da93d7",
   "metadata": {},
   "outputs": [
    {
     "name": "stdout",
     "output_type": "stream",
     "text": [
      "Salt is b'8fd92185a09e889ee06080047b88e6f5'\n"
     ]
    }
   ],
   "source": [
    "salt = os.urandom(16)\n",
    "print(f\"Salt is {binascii.hexlify(salt)}\")"
   ]
  },
  {
   "cell_type": "markdown",
   "id": "cb973734",
   "metadata": {},
   "source": [
    "<p style=\"font-family:B Nazanin;font-size: 20px;margin-top:5px;text-align:right\">.سپس کلید فایل را با سالت بدست آمده تبدیل به هش 256 بیتی می کنیم که کلید الگوریتم ماست</p>"
   ]
  },
  {
   "cell_type": "code",
   "execution_count": 3,
   "id": "1343d971",
   "metadata": {},
   "outputs": [
    {
     "name": "stdout",
     "output_type": "stream",
     "text": [
      "Algorithm Key is: b'a257b323f9849883e51a7f0f4022129961467a04d404f8928bcf020160776505'\n"
     ]
    }
   ],
   "source": [
    "enc_key = pbkdf2.PBKDF2(salt, key).read(32)\n",
    "print(f\"Algorithm Key is: {binascii.hexlify(enc_key)}\")"
   ]
  },
  {
   "cell_type": "markdown",
   "id": "3039ccdd",
   "metadata": {},
   "source": [
    "<h1 style=\"font-family:B Titr;font-size: 20px; font-weight:bold;text-align:right\"> رمزنگاری متن واضح</h1>\n",
    "<p style=\"font-family:B Nazanin;font-size: 20px;margin-top:5px;text-align:right\">.در ابتدا یک بردار ابتدایی برای مد کاری درست می کنیم</p>"
   ]
  },
  {
   "cell_type": "code",
   "execution_count": 4,
   "id": "bc98cb1b",
   "metadata": {},
   "outputs": [
    {
     "name": "stdout",
     "output_type": "stream",
     "text": [
      "Initial Vector is: 83399119975984147159554147068933982571323124603614559499956305582821953314010\n"
     ]
    }
   ],
   "source": [
    "initialvector= secrets.randbits(256)\n",
    "print(f\"Initial Vector is: {initialvector}\")"
   ]
  },
  {
   "cell_type": "markdown",
   "id": "b7660d15",
   "metadata": {},
   "source": [
    "<p style=\"font-family:B Nazanin;font-size: 20px;margin-top:5px;text-align:right\">.سپس فایل متن واضح را لود می کنیم</p>"
   ]
  },
  {
   "cell_type": "code",
   "execution_count": 5,
   "id": "aec66beb",
   "metadata": {},
   "outputs": [
    {
     "name": "stdout",
     "output_type": "stream",
     "text": [
      "Plain-text is: 9731088\n"
     ]
    }
   ],
   "source": [
    "plaintext_file = open(\"plaintext.txt\",\"r\")\n",
    "plaintext = plaintext_file.read()\n",
    "print(f\"Plain-text is: {plaintext}\")\n",
    "plaintext_file.close()"
   ]
  },
  {
   "cell_type": "markdown",
   "id": "b3fb838c",
   "metadata": {},
   "source": [
    "<p style=\"font-family:B Nazanin;font-size: 20px;margin-top:5px;text-align:right\">.در مرحله بعدی الگوریتم رمزنگاری با مد کاری ذکر شده را لود می کنیم. سپس متن واضح را رمزنگاری می کنیم</p>"
   ]
  },
  {
   "cell_type": "code",
   "execution_count": 6,
   "id": "72815493",
   "metadata": {},
   "outputs": [
    {
     "name": "stdout",
     "output_type": "stream",
     "text": [
      "Encrypted text is: b'6eb34f5990e261'\n"
     ]
    }
   ],
   "source": [
    "aes = pyaes.AESModeOfOperationCTR(enc_key, pyaes.Counter(initialvector))\n",
    "ciphertext = aes.encrypt(plaintext)\n",
    "print(f\"Encrypted text is: {binascii.hexlify(ciphertext)}\")\n",
    "ciphertext_file = open(\"ciphertext.txt\", \"w\")\n",
    "ciphertext_file.write(str(binascii.hexlify(ciphertext)))\n",
    "ciphertext_file.close()"
   ]
  },
  {
   "cell_type": "markdown",
   "id": "b1ec70b5",
   "metadata": {},
   "source": [
    "<p style=\"font-family:B Nazanin;font-size: 20px;margin-top:5px;text-align:right\">.در مرحله بعدی متن رمزنگاری شده را دیکود می کنیم</p>"
   ]
  },
  {
   "cell_type": "code",
   "execution_count": 7,
   "id": "191acfb1",
   "metadata": {},
   "outputs": [
    {
     "name": "stdout",
     "output_type": "stream",
     "text": [
      "Decrypted text is: b'9731088'\n"
     ]
    }
   ],
   "source": [
    "aes = pyaes.AESModeOfOperationCTR(enc_key, pyaes.Counter(initialvector))\n",
    "decrypted_text = aes.decrypt(ciphertext)\n",
    "print(f\"Decrypted text is: {decrypted_text}\")"
   ]
  },
  {
   "cell_type": "markdown",
   "id": "5b3a0885",
   "metadata": {},
   "source": [
    "<h1 style=\"font-family:B Titr;font-size: 20px; font-weight:bold;text-align:right\"> عملکرد تحت کنسول</h1>\n",
    "<p style=\"font-family:B Nazanin;font-size: 20px;margin-top:5px;text-align:right\">.در این مرحله کدهای نوشته شده برای رمزنگاری را در حلقه ای می گذاریم و در هر دور از کاربر دیکود کردن یا انکود کردن را درخواست می کنیم</p>"
   ]
  },
  {
   "cell_type": "code",
   "execution_count": 8,
   "id": "8d986aed",
   "metadata": {},
   "outputs": [
    {
     "name": "stdout",
     "output_type": "stream",
     "text": [
      "Enter E/D for Encryption/Decryption. Enter Stop for Stopping: E\n",
      "Encrypted text is: b'6eb34f5990e261'\n",
      "Enter E/D for Encryption/Decryption. Enter Stop for Stopping: D\n",
      "Decrypted text is: b'9731088'\n",
      "Enter E/D for Encryption/Decryption. Enter Stop for Stopping: E\n",
      "Encrypted text is: b'6eb34f5990e261'\n",
      "Enter E/D for Encryption/Decryption. Enter Stop for Stopping: D\n",
      "Decrypted text is: b'9731088'\n",
      "Enter E/D for Encryption/Decryption. Enter Stop for Stopping: F\n",
      "Wrong Input! Please try again!\n",
      "\n",
      "Enter E/D for Encryption/Decryption. Enter Stop for Stopping: Stop\n"
     ]
    }
   ],
   "source": [
    "while(True):\n",
    "    inp = input(\"Enter E/D for Encryption/Decryption. Enter Stop for Stopping: \")\n",
    "    if (inp == \"E\"):\n",
    "        plaintext_file = open(\"plaintext.txt\", \"r\")\n",
    "        plaintext = plaintext_file.read()\n",
    "        aes = pyaes.AESModeOfOperationCTR(enc_key, pyaes.Counter(initialvector))\n",
    "        ciphertext = aes.encrypt(plaintext)\n",
    "        print(f\"Encrypted text is: {binascii.hexlify(ciphertext)}\")\n",
    "        ciphertext_file = open(\"ciphertext.txt\", \"w\")\n",
    "        ciphertext_file.write(str(binascii.hexlify(ciphertext)))\n",
    "        ciphertext_file.close()\n",
    "        plaintext_file.close()\n",
    "    elif (inp == \"D\" and ciphertext != \"\"):\n",
    "        #the last ciphertext is stored in ciphertext\n",
    "        aes = pyaes.AESModeOfOperationCTR(enc_key, pyaes.Counter(initialvector))\n",
    "        decrypted_text = aes.decrypt(ciphertext)\n",
    "        print(f\"Decrypted text is: {decrypted_text}\")\n",
    "    elif (inp == \"Stop\"):\n",
    "        break\n",
    "    else:\n",
    "        print(\"Wrong Input! Please try again!\\n\")"
   ]
  }
 ],
 "metadata": {
  "kernelspec": {
   "display_name": "Python 3",
   "language": "python",
   "name": "python3"
  },
  "language_info": {
   "codemirror_mode": {
    "name": "ipython",
    "version": 3
   },
   "file_extension": ".py",
   "mimetype": "text/x-python",
   "name": "python",
   "nbconvert_exporter": "python",
   "pygments_lexer": "ipython3",
   "version": "3.9.0"
  }
 },
 "nbformat": 4,
 "nbformat_minor": 5
}
